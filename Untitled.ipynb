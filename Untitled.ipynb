{
 "cells": [
  {
   "cell_type": "code",
   "execution_count": 17,
   "metadata": {},
   "outputs": [],
   "source": [
    "import tensorflow as tf\n",
    "import pandas as pd\n",
    "import numpy as np\n",
    "from tensorflow.keras import metrics,Model,layers,Sequential,losses\n",
    "from connect_db import Session,engine\n",
    "from data_models import Movie,User,Rating\n",
    "from sklearn.model_selection import train_test_split\n",
    "import json"
   ]
  },
  {
   "cell_type": "code",
   "execution_count": 2,
   "metadata": {},
   "outputs": [],
   "source": [
    "session=Session()"
   ]
  },
  {
   "cell_type": "code",
   "execution_count": 3,
   "metadata": {},
   "outputs": [],
   "source": [
    "# query with condition? alternative\n",
    "all_users=session.query(User).all()\n",
    "existing_movies=session.query(Movie).filter(Movie.year<1998).all()\n",
    "new_movies=session.query(Movie).filter(Movie.year>1997).all()"
   ]
  },
  {
   "cell_type": "code",
   "execution_count": 38,
   "metadata": {},
   "outputs": [],
   "source": [
    "all_movies=session.query(Movie).all()"
   ]
  },
  {
   "cell_type": "code",
   "execution_count": 70,
   "metadata": {},
   "outputs": [],
   "source": [
    "all_movies_id=[elem.id for elem in all_movies]\n",
    "all_movies_data=[{\n",
    "        'year':elem.year,'actor':elem.actor,'title':elem.title,'rated':elem.rated,\n",
    "        'director':elem.director,'genre':elem.genre\n",
    "        } for elem in all_movies]\n",
    "\n",
    "all_movies_df=pd.DataFrame(all_movies_data,index=all_movies_id)"
   ]
  },
  {
   "cell_type": "code",
   "execution_count": 43,
   "metadata": {},
   "outputs": [],
   "source": [
    "exxx_df=all_movies_df[all_movies_df.year<1998]"
   ]
  },
  {
   "cell_type": "code",
   "execution_count": 54,
   "metadata": {},
   "outputs": [
    {
     "data": {
      "text/plain": [
       "year                    2000\n",
       "actor         Robert De Niro\n",
       "title       Meet the Parents\n",
       "rated                  PG-13\n",
       "director           Jay Roach\n",
       "genre                 Comedy\n",
       "Name: 3948, dtype: object"
      ]
     },
     "execution_count": 54,
     "metadata": {},
     "output_type": "execute_result"
    }
   ],
   "source": [
    "all_movies_df.loc[3948]"
   ]
  },
  {
   "cell_type": "code",
   "execution_count": 46,
   "metadata": {},
   "outputs": [
    {
     "data": {
      "text/html": [
       "<div>\n",
       "<style scoped>\n",
       "    .dataframe tbody tr th:only-of-type {\n",
       "        vertical-align: middle;\n",
       "    }\n",
       "\n",
       "    .dataframe tbody tr th {\n",
       "        vertical-align: top;\n",
       "    }\n",
       "\n",
       "    .dataframe thead th {\n",
       "        text-align: right;\n",
       "    }\n",
       "</style>\n",
       "<table border=\"1\" class=\"dataframe\">\n",
       "  <thead>\n",
       "    <tr style=\"text-align: right;\">\n",
       "      <th></th>\n",
       "      <th>year</th>\n",
       "      <th>actor</th>\n",
       "      <th>title</th>\n",
       "      <th>rated</th>\n",
       "      <th>director</th>\n",
       "      <th>genre</th>\n",
       "    </tr>\n",
       "  </thead>\n",
       "  <tbody>\n",
       "    <tr>\n",
       "      <td>1</td>\n",
       "      <td>1995</td>\n",
       "      <td>Tom Hanks</td>\n",
       "      <td>Toy Story</td>\n",
       "      <td>G</td>\n",
       "      <td>John Lasseter</td>\n",
       "      <td>Animation|Children's|Comedy</td>\n",
       "    </tr>\n",
       "    <tr>\n",
       "      <td>2</td>\n",
       "      <td>1995</td>\n",
       "      <td>Robin Williams</td>\n",
       "      <td>Jumanji</td>\n",
       "      <td>PG</td>\n",
       "      <td>Joe Johnston</td>\n",
       "      <td>Adventure|Children's|Fantasy</td>\n",
       "    </tr>\n",
       "    <tr>\n",
       "      <td>3</td>\n",
       "      <td>1995</td>\n",
       "      <td>Walter Matthau</td>\n",
       "      <td>Grumpier Old Men</td>\n",
       "      <td>PG-13</td>\n",
       "      <td>Howard Deutch</td>\n",
       "      <td>Comedy|Romance</td>\n",
       "    </tr>\n",
       "    <tr>\n",
       "      <td>4</td>\n",
       "      <td>1995</td>\n",
       "      <td>Whitney Houston</td>\n",
       "      <td>Waiting to Exhale</td>\n",
       "      <td>R</td>\n",
       "      <td>Forest Whitaker</td>\n",
       "      <td>Comedy|Drama</td>\n",
       "    </tr>\n",
       "    <tr>\n",
       "      <td>5</td>\n",
       "      <td>1995</td>\n",
       "      <td>Steve Martin</td>\n",
       "      <td>Father of the Bride Part II</td>\n",
       "      <td>PG</td>\n",
       "      <td>Charles Shyer</td>\n",
       "      <td>Comedy</td>\n",
       "    </tr>\n",
       "    <tr>\n",
       "      <td>...</td>\n",
       "      <td>...</td>\n",
       "      <td>...</td>\n",
       "      <td>...</td>\n",
       "      <td>...</td>\n",
       "      <td>...</td>\n",
       "      <td>...</td>\n",
       "    </tr>\n",
       "    <tr>\n",
       "      <td>3935</td>\n",
       "      <td>1973</td>\n",
       "      <td>Jeff Morrow</td>\n",
       "      <td>Kronos</td>\n",
       "      <td>Not Rated</td>\n",
       "      <td>Kurt Neumann</td>\n",
       "      <td>Horror</td>\n",
       "    </tr>\n",
       "    <tr>\n",
       "      <td>3937</td>\n",
       "      <td>1984</td>\n",
       "      <td>Tom Selleck</td>\n",
       "      <td>Runaway</td>\n",
       "      <td>PG-13</td>\n",
       "      <td>Michael Crichton</td>\n",
       "      <td>Sci-Fi|Thriller</td>\n",
       "    </tr>\n",
       "    <tr>\n",
       "      <td>3941</td>\n",
       "      <td>1986</td>\n",
       "      <td>Angela O'Neill</td>\n",
       "      <td>Sorority House Massacre</td>\n",
       "      <td>R</td>\n",
       "      <td>Carol Frank</td>\n",
       "      <td>Horror</td>\n",
       "    </tr>\n",
       "    <tr>\n",
       "      <td>3942</td>\n",
       "      <td>1990</td>\n",
       "      <td>Gail Thackray</td>\n",
       "      <td>Sorority House Massacre II</td>\n",
       "      <td>Unrated</td>\n",
       "      <td>Jim Wynorski</td>\n",
       "      <td>Horror</td>\n",
       "    </tr>\n",
       "    <tr>\n",
       "      <td>3947</td>\n",
       "      <td>1971</td>\n",
       "      <td>Sylvester Stallone</td>\n",
       "      <td>Get Carter</td>\n",
       "      <td>R</td>\n",
       "      <td>Stephen Kay</td>\n",
       "      <td>Thriller</td>\n",
       "    </tr>\n",
       "  </tbody>\n",
       "</table>\n",
       "<p>2305 rows × 6 columns</p>\n",
       "</div>"
      ],
      "text/plain": [
       "      year               actor                        title      rated  \\\n",
       "1     1995           Tom Hanks                    Toy Story          G   \n",
       "2     1995      Robin Williams                      Jumanji         PG   \n",
       "3     1995      Walter Matthau             Grumpier Old Men      PG-13   \n",
       "4     1995     Whitney Houston            Waiting to Exhale          R   \n",
       "5     1995        Steve Martin  Father of the Bride Part II         PG   \n",
       "...    ...                 ...                          ...        ...   \n",
       "3935  1973         Jeff Morrow                       Kronos  Not Rated   \n",
       "3937  1984         Tom Selleck                      Runaway      PG-13   \n",
       "3941  1986      Angela O'Neill      Sorority House Massacre          R   \n",
       "3942  1990       Gail Thackray   Sorority House Massacre II    Unrated   \n",
       "3947  1971  Sylvester Stallone                   Get Carter          R   \n",
       "\n",
       "              director                         genre  \n",
       "1        John Lasseter   Animation|Children's|Comedy  \n",
       "2         Joe Johnston  Adventure|Children's|Fantasy  \n",
       "3        Howard Deutch                Comedy|Romance  \n",
       "4      Forest Whitaker                  Comedy|Drama  \n",
       "5        Charles Shyer                        Comedy  \n",
       "...                ...                           ...  \n",
       "3935      Kurt Neumann                        Horror  \n",
       "3937  Michael Crichton               Sci-Fi|Thriller  \n",
       "3941       Carol Frank                        Horror  \n",
       "3942      Jim Wynorski                        Horror  \n",
       "3947       Stephen Kay                      Thriller  \n",
       "\n",
       "[2305 rows x 6 columns]"
      ]
     },
     "execution_count": 46,
     "metadata": {},
     "output_type": "execute_result"
    }
   ],
   "source": [
    "exxx_df"
   ]
  },
  {
   "cell_type": "code",
   "execution_count": 16,
   "metadata": {},
   "outputs": [],
   "source": [
    "moview=session.query(Movie.actor,Movie.director).all()"
   ]
  },
  {
   "cell_type": "code",
   "execution_count": 23,
   "metadata": {},
   "outputs": [],
   "source": [
    "actors=list({elem.actor for elem in moview})"
   ]
  },
  {
   "cell_type": "code",
   "execution_count": 20,
   "metadata": {},
   "outputs": [],
   "source": [
    "import json"
   ]
  },
  {
   "cell_type": "code",
   "execution_count": 24,
   "metadata": {},
   "outputs": [],
   "source": [
    "with open('test.json','w') as f:\n",
    "    json.dump(actors,f)"
   ]
  },
  {
   "cell_type": "code",
   "execution_count": 25,
   "metadata": {},
   "outputs": [],
   "source": [
    "with open('test.json','r') as f:\n",
    "    aaa=json.load(f)"
   ]
  },
  {
   "cell_type": "code",
   "execution_count": 27,
   "metadata": {},
   "outputs": [
    {
     "data": {
      "text/plain": [
       "'Ethan Suplee'"
      ]
     },
     "execution_count": 27,
     "metadata": {},
     "output_type": "execute_result"
    }
   ],
   "source": [
    "aaa[0]"
   ]
  },
  {
   "cell_type": "code",
   "execution_count": 4,
   "metadata": {},
   "outputs": [],
   "source": [
    "all_users_id=[elem.id for elem in all_users]\n",
    "all_users=[{'gender':elem.gender,'occupation':elem.occupation,'age':elem.age,'zipcode':elem.zipcode} for elem in all_users]"
   ]
  },
  {
   "cell_type": "code",
   "execution_count": 12,
   "metadata": {},
   "outputs": [],
   "source": [
    "all_users_df=pd.DataFrame(all_users,index=all_users_id)"
   ]
  },
  {
   "cell_type": "code",
   "execution_count": 13,
   "metadata": {},
   "outputs": [
    {
     "data": {
      "text/html": [
       "<div>\n",
       "<style scoped>\n",
       "    .dataframe tbody tr th:only-of-type {\n",
       "        vertical-align: middle;\n",
       "    }\n",
       "\n",
       "    .dataframe tbody tr th {\n",
       "        vertical-align: top;\n",
       "    }\n",
       "\n",
       "    .dataframe thead th {\n",
       "        text-align: right;\n",
       "    }\n",
       "</style>\n",
       "<table border=\"1\" class=\"dataframe\">\n",
       "  <thead>\n",
       "    <tr style=\"text-align: right;\">\n",
       "      <th></th>\n",
       "      <th>gender</th>\n",
       "      <th>occupation</th>\n",
       "      <th>age</th>\n",
       "      <th>zipcode</th>\n",
       "    </tr>\n",
       "  </thead>\n",
       "  <tbody>\n",
       "    <tr>\n",
       "      <td>1</td>\n",
       "      <td>F</td>\n",
       "      <td>10</td>\n",
       "      <td>1</td>\n",
       "      <td>48067</td>\n",
       "    </tr>\n",
       "    <tr>\n",
       "      <td>2</td>\n",
       "      <td>M</td>\n",
       "      <td>16</td>\n",
       "      <td>56</td>\n",
       "      <td>70072</td>\n",
       "    </tr>\n",
       "    <tr>\n",
       "      <td>3</td>\n",
       "      <td>M</td>\n",
       "      <td>15</td>\n",
       "      <td>25</td>\n",
       "      <td>55117</td>\n",
       "    </tr>\n",
       "    <tr>\n",
       "      <td>4</td>\n",
       "      <td>M</td>\n",
       "      <td>7</td>\n",
       "      <td>45</td>\n",
       "      <td>02460</td>\n",
       "    </tr>\n",
       "    <tr>\n",
       "      <td>5</td>\n",
       "      <td>M</td>\n",
       "      <td>20</td>\n",
       "      <td>25</td>\n",
       "      <td>55455</td>\n",
       "    </tr>\n",
       "    <tr>\n",
       "      <td>...</td>\n",
       "      <td>...</td>\n",
       "      <td>...</td>\n",
       "      <td>...</td>\n",
       "      <td>...</td>\n",
       "    </tr>\n",
       "    <tr>\n",
       "      <td>6036</td>\n",
       "      <td>F</td>\n",
       "      <td>15</td>\n",
       "      <td>25</td>\n",
       "      <td>32603</td>\n",
       "    </tr>\n",
       "    <tr>\n",
       "      <td>6037</td>\n",
       "      <td>F</td>\n",
       "      <td>1</td>\n",
       "      <td>45</td>\n",
       "      <td>76006</td>\n",
       "    </tr>\n",
       "    <tr>\n",
       "      <td>6038</td>\n",
       "      <td>F</td>\n",
       "      <td>1</td>\n",
       "      <td>56</td>\n",
       "      <td>14706</td>\n",
       "    </tr>\n",
       "    <tr>\n",
       "      <td>6039</td>\n",
       "      <td>F</td>\n",
       "      <td>0</td>\n",
       "      <td>45</td>\n",
       "      <td>01060</td>\n",
       "    </tr>\n",
       "    <tr>\n",
       "      <td>6040</td>\n",
       "      <td>M</td>\n",
       "      <td>6</td>\n",
       "      <td>25</td>\n",
       "      <td>11106</td>\n",
       "    </tr>\n",
       "  </tbody>\n",
       "</table>\n",
       "<p>6040 rows × 4 columns</p>\n",
       "</div>"
      ],
      "text/plain": [
       "     gender  occupation  age zipcode\n",
       "1         F          10    1   48067\n",
       "2         M          16   56   70072\n",
       "3         M          15   25   55117\n",
       "4         M           7   45   02460\n",
       "5         M          20   25   55455\n",
       "...     ...         ...  ...     ...\n",
       "6036      F          15   25   32603\n",
       "6037      F           1   45   76006\n",
       "6038      F           1   56   14706\n",
       "6039      F           0   45   01060\n",
       "6040      M           6   25   11106\n",
       "\n",
       "[6040 rows x 4 columns]"
      ]
     },
     "execution_count": 13,
     "metadata": {},
     "output_type": "execute_result"
    }
   ],
   "source": [
    "all_users_df"
   ]
  },
  {
   "cell_type": "code",
   "execution_count": 14,
   "metadata": {},
   "outputs": [],
   "source": [
    "all_users_df.gender=(all_users_df.gender=='M').astype(int)"
   ]
  },
  {
   "cell_type": "code",
   "execution_count": 7,
   "metadata": {},
   "outputs": [
    {
     "data": {
      "text/plain": [
       "{'_sa_instance_state': <sqlalchemy.orm.state.InstanceState at 0x6379a97d0>,\n",
       " 'title': 'Toy Story',\n",
       " 'actor': 'Tom Hanks',\n",
       " 'rated': 'G',\n",
       " 'director': 'John Lasseter',\n",
       " 'id': 1,\n",
       " 'year': 1995}"
      ]
     },
     "execution_count": 7,
     "metadata": {},
     "output_type": "execute_result"
    }
   ],
   "source": [
    "existing_movies[0].__dict__"
   ]
  },
  {
   "cell_type": "code",
   "execution_count": 8,
   "metadata": {},
   "outputs": [],
   "source": [
    "existing_moview_id=[elem.id for elem in existing_movies]\n",
    "existing_movies=[{'year':elem.year,'actor':elem.actor,'title':elem.title,'rated':elem.rated} for elem in existing_movies]\n",
    "new_movies_id=[elem.id for elem in new_movies]\n",
    "new_movies=[{'year':elem.year,'actor':elem.actor,'title':elem.title,'rated':elem.rated} for elem in new_movies]"
   ]
  },
  {
   "cell_type": "code",
   "execution_count": 14,
   "metadata": {},
   "outputs": [],
   "source": [
    "user_mask=np.random.rand(len(all_users_df)) < 0.8\n",
    "user_existing=all_users_df[user_mask]\n",
    "user_new=all_users_df[~user_mask]"
   ]
  },
  {
   "cell_type": "code",
   "execution_count": 57,
   "metadata": {},
   "outputs": [],
   "source": [
    "rating_existing=session.query(Rating).join(User).filter(User.id.in_(user_existing.index)).join(Movie).filter(Movie.year<1998).all()"
   ]
  },
  {
   "cell_type": "code",
   "execution_count": 59,
   "metadata": {},
   "outputs": [
    {
     "data": {
      "text/plain": [
       "515545"
      ]
     },
     "execution_count": 59,
     "metadata": {},
     "output_type": "execute_result"
    }
   ],
   "source": [
    "len(rating_existing)"
   ]
  },
  {
   "cell_type": "code",
   "execution_count": 58,
   "metadata": {},
   "outputs": [
    {
     "data": {
      "text/plain": [
       "<data_models.user.User at 0x1a4b61ab10>"
      ]
     },
     "execution_count": 58,
     "metadata": {},
     "output_type": "execute_result"
    }
   ],
   "source": [
    "rating[0].user"
   ]
  },
  {
   "cell_type": "code",
   "execution_count": 49,
   "metadata": {},
   "outputs": [
    {
     "data": {
      "text/plain": [
       "Int64Index([2, 3, 4, 5, 7, 8, 9, 10, 11, 12], dtype='int64')"
      ]
     },
     "execution_count": 49,
     "metadata": {},
     "output_type": "execute_result"
    }
   ],
   "source": [
    "user_existing.index[:10]"
   ]
  },
  {
   "cell_type": "code",
   "execution_count": 50,
   "metadata": {},
   "outputs": [
    {
     "data": {
      "text/plain": [
       "Int64Index([1, 6, 14, 18, 20, 27, 33, 34, 53, 62], dtype='int64')"
      ]
     },
     "execution_count": 50,
     "metadata": {},
     "output_type": "execute_result"
    }
   ],
   "source": [
    "user_new.index[:10]"
   ]
  },
  {
   "cell_type": "code",
   "execution_count": 3,
   "metadata": {},
   "outputs": [],
   "source": [
    "movies=session.query(Movie).all()\n",
    "movies_id=[elem.id for elem in movies]\n",
    "movies_data=[{\n",
    "        'year':elem.year,'actor':elem.actor,'title':elem.title,'rated':elem.rated,\n",
    "        'director':elem.director,'genre':elem.genre\n",
    "        } for elem in movies]"
   ]
  },
  {
   "cell_type": "code",
   "execution_count": 4,
   "metadata": {},
   "outputs": [],
   "source": [
    "movies_df=pd.DataFrame(movies_data,index=movies_id)"
   ]
  },
  {
   "cell_type": "code",
   "execution_count": 6,
   "metadata": {},
   "outputs": [
    {
     "data": {
      "text/html": [
       "<div>\n",
       "<style scoped>\n",
       "    .dataframe tbody tr th:only-of-type {\n",
       "        vertical-align: middle;\n",
       "    }\n",
       "\n",
       "    .dataframe tbody tr th {\n",
       "        vertical-align: top;\n",
       "    }\n",
       "\n",
       "    .dataframe thead th {\n",
       "        text-align: right;\n",
       "    }\n",
       "</style>\n",
       "<table border=\"1\" class=\"dataframe\">\n",
       "  <thead>\n",
       "    <tr style=\"text-align: right;\">\n",
       "      <th></th>\n",
       "      <th>year</th>\n",
       "      <th>actor</th>\n",
       "      <th>title</th>\n",
       "      <th>rated</th>\n",
       "      <th>director</th>\n",
       "      <th>genre</th>\n",
       "    </tr>\n",
       "  </thead>\n",
       "  <tbody>\n",
       "    <tr>\n",
       "      <td>1</td>\n",
       "      <td>1995</td>\n",
       "      <td>Tom Hanks</td>\n",
       "      <td>Toy Story</td>\n",
       "      <td>G</td>\n",
       "      <td>John Lasseter</td>\n",
       "      <td>Animation|Children's|Comedy</td>\n",
       "    </tr>\n",
       "    <tr>\n",
       "      <td>2</td>\n",
       "      <td>1995</td>\n",
       "      <td>Robin Williams</td>\n",
       "      <td>Jumanji</td>\n",
       "      <td>PG</td>\n",
       "      <td>Joe Johnston</td>\n",
       "      <td>Adventure|Children's|Fantasy</td>\n",
       "    </tr>\n",
       "    <tr>\n",
       "      <td>3</td>\n",
       "      <td>1995</td>\n",
       "      <td>Walter Matthau</td>\n",
       "      <td>Grumpier Old Men</td>\n",
       "      <td>PG-13</td>\n",
       "      <td>Howard Deutch</td>\n",
       "      <td>Comedy|Romance</td>\n",
       "    </tr>\n",
       "    <tr>\n",
       "      <td>4</td>\n",
       "      <td>1995</td>\n",
       "      <td>Whitney Houston</td>\n",
       "      <td>Waiting to Exhale</td>\n",
       "      <td>R</td>\n",
       "      <td>Forest Whitaker</td>\n",
       "      <td>Comedy|Drama</td>\n",
       "    </tr>\n",
       "    <tr>\n",
       "      <td>5</td>\n",
       "      <td>1995</td>\n",
       "      <td>Steve Martin</td>\n",
       "      <td>Father of the Bride Part II</td>\n",
       "      <td>PG</td>\n",
       "      <td>Charles Shyer</td>\n",
       "      <td>Comedy</td>\n",
       "    </tr>\n",
       "    <tr>\n",
       "      <td>...</td>\n",
       "      <td>...</td>\n",
       "      <td>...</td>\n",
       "      <td>...</td>\n",
       "      <td>...</td>\n",
       "      <td>...</td>\n",
       "      <td>...</td>\n",
       "    </tr>\n",
       "    <tr>\n",
       "      <td>3948</td>\n",
       "      <td>2000</td>\n",
       "      <td>Robert De Niro</td>\n",
       "      <td>Meet the Parents</td>\n",
       "      <td>PG-13</td>\n",
       "      <td>Jay Roach</td>\n",
       "      <td>Comedy</td>\n",
       "    </tr>\n",
       "    <tr>\n",
       "      <td>3949</td>\n",
       "      <td>2000</td>\n",
       "      <td>Ellen Burstyn</td>\n",
       "      <td>Requiem for a Dream</td>\n",
       "      <td>R</td>\n",
       "      <td>Darren Aronofsky</td>\n",
       "      <td>Drama</td>\n",
       "    </tr>\n",
       "    <tr>\n",
       "      <td>3950</td>\n",
       "      <td>2000</td>\n",
       "      <td>Colin Farrell</td>\n",
       "      <td>Tigerland</td>\n",
       "      <td>R</td>\n",
       "      <td>Joel Schumacher</td>\n",
       "      <td>Drama</td>\n",
       "    </tr>\n",
       "    <tr>\n",
       "      <td>3951</td>\n",
       "      <td>2000</td>\n",
       "      <td>Michael Rispoli</td>\n",
       "      <td>Two Family House</td>\n",
       "      <td>R</td>\n",
       "      <td>Raymond De Felitta</td>\n",
       "      <td>Drama</td>\n",
       "    </tr>\n",
       "    <tr>\n",
       "      <td>3952</td>\n",
       "      <td>2000</td>\n",
       "      <td>Joan Allen</td>\n",
       "      <td>Contender, The</td>\n",
       "      <td>N/A</td>\n",
       "      <td>Barbara Toennies</td>\n",
       "      <td>Drama|Thriller</td>\n",
       "    </tr>\n",
       "  </tbody>\n",
       "</table>\n",
       "<p>2879 rows × 6 columns</p>\n",
       "</div>"
      ],
      "text/plain": [
       "      year            actor                        title  rated  \\\n",
       "1     1995        Tom Hanks                    Toy Story      G   \n",
       "2     1995   Robin Williams                      Jumanji     PG   \n",
       "3     1995   Walter Matthau             Grumpier Old Men  PG-13   \n",
       "4     1995  Whitney Houston            Waiting to Exhale      R   \n",
       "5     1995     Steve Martin  Father of the Bride Part II     PG   \n",
       "...    ...              ...                          ...    ...   \n",
       "3948  2000   Robert De Niro             Meet the Parents  PG-13   \n",
       "3949  2000    Ellen Burstyn          Requiem for a Dream      R   \n",
       "3950  2000    Colin Farrell                    Tigerland      R   \n",
       "3951  2000  Michael Rispoli             Two Family House      R   \n",
       "3952  2000       Joan Allen               Contender, The    N/A   \n",
       "\n",
       "                director                         genre  \n",
       "1          John Lasseter   Animation|Children's|Comedy  \n",
       "2           Joe Johnston  Adventure|Children's|Fantasy  \n",
       "3          Howard Deutch                Comedy|Romance  \n",
       "4        Forest Whitaker                  Comedy|Drama  \n",
       "5          Charles Shyer                        Comedy  \n",
       "...                  ...                           ...  \n",
       "3948           Jay Roach                        Comedy  \n",
       "3949    Darren Aronofsky                         Drama  \n",
       "3950     Joel Schumacher                         Drama  \n",
       "3951  Raymond De Felitta                         Drama  \n",
       "3952    Barbara Toennies                Drama|Thriller  \n",
       "\n",
       "[2879 rows x 6 columns]"
      ]
     },
     "execution_count": 6,
     "metadata": {},
     "output_type": "execute_result"
    }
   ],
   "source": [
    "movies_df"
   ]
  },
  {
   "cell_type": "code",
   "execution_count": 13,
   "metadata": {},
   "outputs": [
    {
     "data": {
      "text/plain": [
       "0"
      ]
     },
     "execution_count": 13,
     "metadata": {},
     "output_type": "execute_result"
    }
   ],
   "source": [
    "movies_df.genre.isna().sum()"
   ]
  },
  {
   "cell_type": "code",
   "execution_count": 15,
   "metadata": {},
   "outputs": [],
   "source": [
    "def get_movie_dict(movie_dict_file):\n",
    "    with open(movie_dict_file,'r') as f:\n",
    "        movie_dict=json.load(f)\n",
    "    actor_dict=dict(zip(movie_dict['actors'],range(len(movie_dict['actors']))))\n",
    "    director_dict=dict(zip(movie_dict['directors'],range(len(movie_dict['directors']))))\n",
    "    rated_dict=dict(zip(movie_dict['rateds'],range(len(movie_dict['rateds']))))\n",
    "    genre_dict=dict(zip(movie_dict['genres'],range(len(movie_dict['genres']))))\n",
    "    return actor_dict,director_dict,rated_dict,genre_dict\n",
    "\n",
    "def get_book_dict(book_dict_file):\n",
    "    with open(book_dict_file,'r') as f:\n",
    "        book_dict=json.load(f)\n",
    "    author_dict=dict(zip(book_dict['authors'],range(len(book_dict['authors']))))\n",
    "    publisher_dict=dict(zip(book_dict['publishers'],range(len(book_dict['publishers']))))\n",
    "    return author_dict,publisher_dict"
   ]
  },
  {
   "cell_type": "code",
   "execution_count": 18,
   "metadata": {},
   "outputs": [],
   "source": [
    "actor_dict,director_dict,rated_dict,genre_dict=get_movie_dict('movie_dict.json')\n",
    "author_dict,publisher_dict=get_book_dict('book_dict.json')"
   ]
  },
  {
   "cell_type": "code",
   "execution_count": 28,
   "metadata": {},
   "outputs": [],
   "source": [
    "zipcodes=all_users_df.zipcode.unique().tolist()"
   ]
  },
  {
   "cell_type": "code",
   "execution_count": 29,
   "metadata": {},
   "outputs": [],
   "source": [
    "with open('movie_user_zipcodes.json','w') as f:\n",
    "    json.dump(zipcodes,f)"
   ]
  },
  {
   "cell_type": "code",
   "execution_count": 30,
   "metadata": {},
   "outputs": [],
   "source": [
    "with open('movie_user_zipcodes.json','r') as f:\n",
    "    zipcodess=json.load(f)"
   ]
  },
  {
   "cell_type": "code",
   "execution_count": 31,
   "metadata": {},
   "outputs": [],
   "source": [
    "zipcode_dict=dict(zip(zipcodess,range(len(zipcodess))))"
   ]
  },
  {
   "cell_type": "code",
   "execution_count": 34,
   "metadata": {},
   "outputs": [],
   "source": [
    "all_users_df.zipcode=all_users_df.zipcode.apply(lambda x: zipcode_dict[x])"
   ]
  },
  {
   "cell_type": "code",
   "execution_count": 36,
   "metadata": {},
   "outputs": [
    {
     "data": {
      "text/plain": [
       "array([   0,    1,    2, ..., 3436, 3437, 3438])"
      ]
     },
     "execution_count": 36,
     "metadata": {},
     "output_type": "execute_result"
    }
   ],
   "source": [
    "all_users_df.zipcode.unique()"
   ]
  },
  {
   "cell_type": "code",
   "execution_count": 37,
   "metadata": {},
   "outputs": [
    {
     "data": {
      "text/html": [
       "<div>\n",
       "<style scoped>\n",
       "    .dataframe tbody tr th:only-of-type {\n",
       "        vertical-align: middle;\n",
       "    }\n",
       "\n",
       "    .dataframe tbody tr th {\n",
       "        vertical-align: top;\n",
       "    }\n",
       "\n",
       "    .dataframe thead th {\n",
       "        text-align: right;\n",
       "    }\n",
       "</style>\n",
       "<table border=\"1\" class=\"dataframe\">\n",
       "  <thead>\n",
       "    <tr style=\"text-align: right;\">\n",
       "      <th></th>\n",
       "      <th>gender</th>\n",
       "      <th>occupation</th>\n",
       "      <th>age</th>\n",
       "      <th>zipcode</th>\n",
       "    </tr>\n",
       "  </thead>\n",
       "  <tbody>\n",
       "    <tr>\n",
       "      <td>1</td>\n",
       "      <td>0</td>\n",
       "      <td>10</td>\n",
       "      <td>1</td>\n",
       "      <td>0</td>\n",
       "    </tr>\n",
       "    <tr>\n",
       "      <td>2</td>\n",
       "      <td>1</td>\n",
       "      <td>16</td>\n",
       "      <td>56</td>\n",
       "      <td>1</td>\n",
       "    </tr>\n",
       "    <tr>\n",
       "      <td>3</td>\n",
       "      <td>1</td>\n",
       "      <td>15</td>\n",
       "      <td>25</td>\n",
       "      <td>2</td>\n",
       "    </tr>\n",
       "    <tr>\n",
       "      <td>4</td>\n",
       "      <td>1</td>\n",
       "      <td>7</td>\n",
       "      <td>45</td>\n",
       "      <td>3</td>\n",
       "    </tr>\n",
       "    <tr>\n",
       "      <td>5</td>\n",
       "      <td>1</td>\n",
       "      <td>20</td>\n",
       "      <td>25</td>\n",
       "      <td>4</td>\n",
       "    </tr>\n",
       "    <tr>\n",
       "      <td>...</td>\n",
       "      <td>...</td>\n",
       "      <td>...</td>\n",
       "      <td>...</td>\n",
       "      <td>...</td>\n",
       "    </tr>\n",
       "    <tr>\n",
       "      <td>6036</td>\n",
       "      <td>0</td>\n",
       "      <td>15</td>\n",
       "      <td>25</td>\n",
       "      <td>2601</td>\n",
       "    </tr>\n",
       "    <tr>\n",
       "      <td>6037</td>\n",
       "      <td>0</td>\n",
       "      <td>1</td>\n",
       "      <td>45</td>\n",
       "      <td>3437</td>\n",
       "    </tr>\n",
       "    <tr>\n",
       "      <td>6038</td>\n",
       "      <td>0</td>\n",
       "      <td>1</td>\n",
       "      <td>56</td>\n",
       "      <td>3438</td>\n",
       "    </tr>\n",
       "    <tr>\n",
       "      <td>6039</td>\n",
       "      <td>0</td>\n",
       "      <td>0</td>\n",
       "      <td>45</td>\n",
       "      <td>713</td>\n",
       "    </tr>\n",
       "    <tr>\n",
       "      <td>6040</td>\n",
       "      <td>1</td>\n",
       "      <td>6</td>\n",
       "      <td>25</td>\n",
       "      <td>1114</td>\n",
       "    </tr>\n",
       "  </tbody>\n",
       "</table>\n",
       "<p>6040 rows × 4 columns</p>\n",
       "</div>"
      ],
      "text/plain": [
       "      gender  occupation  age  zipcode\n",
       "1          0          10    1        0\n",
       "2          1          16   56        1\n",
       "3          1          15   25        2\n",
       "4          1           7   45        3\n",
       "5          1          20   25        4\n",
       "...      ...         ...  ...      ...\n",
       "6036       0          15   25     2601\n",
       "6037       0           1   45     3437\n",
       "6038       0           1   56     3438\n",
       "6039       0           0   45      713\n",
       "6040       1           6   25     1114\n",
       "\n",
       "[6040 rows x 4 columns]"
      ]
     },
     "execution_count": 37,
     "metadata": {},
     "output_type": "execute_result"
    }
   ],
   "source": [
    "all_users_df"
   ]
  },
  {
   "cell_type": "code",
   "execution_count": 59,
   "metadata": {},
   "outputs": [],
   "source": [
    "existing_movies_df=all_movies_df[all_movies_df.year<1998]\n",
    "new_movies_df=all_movies_df[all_movies_df.year>1997]\n",
    "user_mask=np.random.rand(len(all_users_df)) < 0.8\n",
    "user_existing=all_users_df[user_mask]\n",
    "user_new=all_users_df[~user_mask]"
   ]
  },
  {
   "cell_type": "code",
   "execution_count": 60,
   "metadata": {},
   "outputs": [],
   "source": [
    "rating_existing=session.query(Rating).join(User).filter(User.id.in_(user_existing.index)).join(Movie).filter(Movie.year<1998).all()"
   ]
  },
  {
   "cell_type": "code",
   "execution_count": 62,
   "metadata": {},
   "outputs": [
    {
     "name": "stdout",
     "output_type": "stream",
     "text": [
      "F\n"
     ]
    }
   ],
   "source": [
    "print(rating_existing[0].user.gender)"
   ]
  },
  {
   "cell_type": "code",
   "execution_count": 63,
   "metadata": {},
   "outputs": [],
   "source": [
    "train_genders=[1 if elem.user.gender=='M' else 0 for elem in rating_existing]"
   ]
  },
  {
   "cell_type": "code",
   "execution_count": 65,
   "metadata": {},
   "outputs": [
    {
     "data": {
      "text/plain": [
       "1919"
      ]
     },
     "execution_count": 65,
     "metadata": {},
     "output_type": "execute_result"
    }
   ],
   "source": [
    "all_movies_df.year.min()"
   ]
  },
  {
   "cell_type": "code",
   "execution_count": 67,
   "metadata": {},
   "outputs": [],
   "source": [
    "all_movies_df.year=all_movies_df.year-1919"
   ]
  },
  {
   "cell_type": "code",
   "execution_count": 68,
   "metadata": {},
   "outputs": [
    {
     "data": {
      "text/html": [
       "<div>\n",
       "<style scoped>\n",
       "    .dataframe tbody tr th:only-of-type {\n",
       "        vertical-align: middle;\n",
       "    }\n",
       "\n",
       "    .dataframe tbody tr th {\n",
       "        vertical-align: top;\n",
       "    }\n",
       "\n",
       "    .dataframe thead th {\n",
       "        text-align: right;\n",
       "    }\n",
       "</style>\n",
       "<table border=\"1\" class=\"dataframe\">\n",
       "  <thead>\n",
       "    <tr style=\"text-align: right;\">\n",
       "      <th></th>\n",
       "      <th>year</th>\n",
       "      <th>actor</th>\n",
       "      <th>title</th>\n",
       "      <th>rated</th>\n",
       "      <th>director</th>\n",
       "      <th>genre</th>\n",
       "    </tr>\n",
       "  </thead>\n",
       "  <tbody>\n",
       "    <tr>\n",
       "      <td>1</td>\n",
       "      <td>76</td>\n",
       "      <td>Tom Hanks</td>\n",
       "      <td>Toy Story</td>\n",
       "      <td>G</td>\n",
       "      <td>John Lasseter</td>\n",
       "      <td>Animation|Children's|Comedy</td>\n",
       "    </tr>\n",
       "    <tr>\n",
       "      <td>2</td>\n",
       "      <td>76</td>\n",
       "      <td>Robin Williams</td>\n",
       "      <td>Jumanji</td>\n",
       "      <td>PG</td>\n",
       "      <td>Joe Johnston</td>\n",
       "      <td>Adventure|Children's|Fantasy</td>\n",
       "    </tr>\n",
       "    <tr>\n",
       "      <td>3</td>\n",
       "      <td>76</td>\n",
       "      <td>Walter Matthau</td>\n",
       "      <td>Grumpier Old Men</td>\n",
       "      <td>PG-13</td>\n",
       "      <td>Howard Deutch</td>\n",
       "      <td>Comedy|Romance</td>\n",
       "    </tr>\n",
       "    <tr>\n",
       "      <td>4</td>\n",
       "      <td>76</td>\n",
       "      <td>Whitney Houston</td>\n",
       "      <td>Waiting to Exhale</td>\n",
       "      <td>R</td>\n",
       "      <td>Forest Whitaker</td>\n",
       "      <td>Comedy|Drama</td>\n",
       "    </tr>\n",
       "    <tr>\n",
       "      <td>5</td>\n",
       "      <td>76</td>\n",
       "      <td>Steve Martin</td>\n",
       "      <td>Father of the Bride Part II</td>\n",
       "      <td>PG</td>\n",
       "      <td>Charles Shyer</td>\n",
       "      <td>Comedy</td>\n",
       "    </tr>\n",
       "    <tr>\n",
       "      <td>...</td>\n",
       "      <td>...</td>\n",
       "      <td>...</td>\n",
       "      <td>...</td>\n",
       "      <td>...</td>\n",
       "      <td>...</td>\n",
       "      <td>...</td>\n",
       "    </tr>\n",
       "    <tr>\n",
       "      <td>3948</td>\n",
       "      <td>81</td>\n",
       "      <td>Robert De Niro</td>\n",
       "      <td>Meet the Parents</td>\n",
       "      <td>PG-13</td>\n",
       "      <td>Jay Roach</td>\n",
       "      <td>Comedy</td>\n",
       "    </tr>\n",
       "    <tr>\n",
       "      <td>3949</td>\n",
       "      <td>81</td>\n",
       "      <td>Ellen Burstyn</td>\n",
       "      <td>Requiem for a Dream</td>\n",
       "      <td>R</td>\n",
       "      <td>Darren Aronofsky</td>\n",
       "      <td>Drama</td>\n",
       "    </tr>\n",
       "    <tr>\n",
       "      <td>3950</td>\n",
       "      <td>81</td>\n",
       "      <td>Colin Farrell</td>\n",
       "      <td>Tigerland</td>\n",
       "      <td>R</td>\n",
       "      <td>Joel Schumacher</td>\n",
       "      <td>Drama</td>\n",
       "    </tr>\n",
       "    <tr>\n",
       "      <td>3951</td>\n",
       "      <td>81</td>\n",
       "      <td>Michael Rispoli</td>\n",
       "      <td>Two Family House</td>\n",
       "      <td>R</td>\n",
       "      <td>Raymond De Felitta</td>\n",
       "      <td>Drama</td>\n",
       "    </tr>\n",
       "    <tr>\n",
       "      <td>3952</td>\n",
       "      <td>81</td>\n",
       "      <td>Joan Allen</td>\n",
       "      <td>Contender, The</td>\n",
       "      <td>N/A</td>\n",
       "      <td>Barbara Toennies</td>\n",
       "      <td>Drama|Thriller</td>\n",
       "    </tr>\n",
       "  </tbody>\n",
       "</table>\n",
       "<p>2879 rows × 6 columns</p>\n",
       "</div>"
      ],
      "text/plain": [
       "      year            actor                        title  rated  \\\n",
       "1       76        Tom Hanks                    Toy Story      G   \n",
       "2       76   Robin Williams                      Jumanji     PG   \n",
       "3       76   Walter Matthau             Grumpier Old Men  PG-13   \n",
       "4       76  Whitney Houston            Waiting to Exhale      R   \n",
       "5       76     Steve Martin  Father of the Bride Part II     PG   \n",
       "...    ...              ...                          ...    ...   \n",
       "3948    81   Robert De Niro             Meet the Parents  PG-13   \n",
       "3949    81    Ellen Burstyn          Requiem for a Dream      R   \n",
       "3950    81    Colin Farrell                    Tigerland      R   \n",
       "3951    81  Michael Rispoli             Two Family House      R   \n",
       "3952    81       Joan Allen               Contender, The    N/A   \n",
       "\n",
       "                director                         genre  \n",
       "1          John Lasseter   Animation|Children's|Comedy  \n",
       "2           Joe Johnston  Adventure|Children's|Fantasy  \n",
       "3          Howard Deutch                Comedy|Romance  \n",
       "4        Forest Whitaker                  Comedy|Drama  \n",
       "5          Charles Shyer                        Comedy  \n",
       "...                  ...                           ...  \n",
       "3948           Jay Roach                        Comedy  \n",
       "3949    Darren Aronofsky                         Drama  \n",
       "3950     Joel Schumacher                         Drama  \n",
       "3951  Raymond De Felitta                         Drama  \n",
       "3952    Barbara Toennies                Drama|Thriller  \n",
       "\n",
       "[2879 rows x 6 columns]"
      ]
     },
     "execution_count": 68,
     "metadata": {},
     "output_type": "execute_result"
    }
   ],
   "source": [
    "all_movies_df"
   ]
  },
  {
   "cell_type": "code",
   "execution_count": 71,
   "metadata": {},
   "outputs": [
    {
     "data": {
      "text/plain": [
       "count    2879.000000\n",
       "mean     1986.770406\n",
       "std        16.240475\n",
       "min      1919.000000\n",
       "25%      1984.000000\n",
       "50%      1994.000000\n",
       "75%      1997.000000\n",
       "max      2000.000000\n",
       "Name: year, dtype: float64"
      ]
     },
     "execution_count": 71,
     "metadata": {},
     "output_type": "execute_result"
    }
   ],
   "source": [
    "all_movies_df.year.describe()"
   ]
  },
  {
   "cell_type": "code",
   "execution_count": 78,
   "metadata": {},
   "outputs": [
    {
     "data": {
      "text/plain": [
       "22"
      ]
     },
     "execution_count": 78,
     "metadata": {},
     "output_type": "execute_result"
    }
   ],
   "source": [
    "len(rated_dict)"
   ]
  },
  {
   "cell_type": "code",
   "execution_count": 105,
   "metadata": {},
   "outputs": [],
   "source": [
    "rating_existing_group=[[] for _ in range(6041)]"
   ]
  },
  {
   "cell_type": "code",
   "execution_count": 106,
   "metadata": {},
   "outputs": [],
   "source": [
    "for rating in rating_existing:\n",
    "    rating_existing_group[rating.user_id].append(rating)"
   ]
  },
  {
   "cell_type": "code",
   "execution_count": 97,
   "metadata": {},
   "outputs": [
    {
     "data": {
      "text/plain": [
       "6040"
      ]
     },
     "execution_count": 97,
     "metadata": {},
     "output_type": "execute_result"
    }
   ],
   "source": [
    "all_users_df.index.max()"
   ]
  },
  {
   "cell_type": "code",
   "execution_count": 100,
   "metadata": {},
   "outputs": [
    {
     "data": {
      "text/plain": [
       "Int64Index([   1,    2,    5,    6,    7,    8,    9,   10,   12,   13,\n",
       "            ...\n",
       "            6030, 6031, 6032, 6033, 6034, 6035, 6036, 6037, 6039, 6040],\n",
       "           dtype='int64', length=4820)"
      ]
     },
     "execution_count": 100,
     "metadata": {},
     "output_type": "execute_result"
    }
   ],
   "source": [
    "user_existing.index"
   ]
  },
  {
   "cell_type": "code",
   "execution_count": 110,
   "metadata": {},
   "outputs": [
    {
     "data": {
      "text/plain": [
       "data_models.rating.Rating"
      ]
     },
     "execution_count": 110,
     "metadata": {},
     "output_type": "execute_result"
    }
   ],
   "source": [
    "type(rating_existing_group[1][0])"
   ]
  },
  {
   "cell_type": "code",
   "execution_count": 111,
   "metadata": {},
   "outputs": [],
   "source": [
    "r_len=[len(elem) for elem in rating_existing_group]"
   ]
  },
  {
   "cell_type": "code",
   "execution_count": 113,
   "metadata": {},
   "outputs": [
    {
     "data": {
      "text/plain": [
       "1271"
      ]
     },
     "execution_count": 113,
     "metadata": {},
     "output_type": "execute_result"
    }
   ],
   "source": [
    "max(r_len)"
   ]
  },
  {
   "cell_type": "code",
   "execution_count": 115,
   "metadata": {},
   "outputs": [
    {
     "data": {
      "text/plain": [
       "0"
      ]
     },
     "execution_count": 115,
     "metadata": {},
     "output_type": "execute_result"
    }
   ],
   "source": [
    "min(r_len[:1])"
   ]
  },
  {
   "cell_type": "code",
   "execution_count": 118,
   "metadata": {},
   "outputs": [],
   "source": [
    "min_len=100\n",
    "for elem in r_len:\n",
    "    if elem>2 and elem<min_len:\n",
    "        min_len=elem"
   ]
  },
  {
   "cell_type": "code",
   "execution_count": 122,
   "metadata": {},
   "outputs": [],
   "source": [
    "temp_len=r_len"
   ]
  },
  {
   "cell_type": "code",
   "execution_count": 126,
   "metadata": {},
   "outputs": [],
   "source": [
    "while 0 in temp_len:\n",
    "    a=temp_len.index(0)\n",
    "    del(temp_len[a])"
   ]
  },
  {
   "cell_type": "code",
   "execution_count": 127,
   "metadata": {},
   "outputs": [
    {
     "data": {
      "text/plain": [
       "4820"
      ]
     },
     "execution_count": 127,
     "metadata": {},
     "output_type": "execute_result"
    }
   ],
   "source": [
    "len(temp_len)"
   ]
  },
  {
   "cell_type": "code",
   "execution_count": 129,
   "metadata": {},
   "outputs": [
    {
     "data": {
      "text/plain": [
       "105.37053941908714"
      ]
     },
     "execution_count": 129,
     "metadata": {},
     "output_type": "execute_result"
    }
   ],
   "source": [
    "sum(temp_len)/4820"
   ]
  },
  {
   "cell_type": "code",
   "execution_count": null,
   "metadata": {},
   "outputs": [],
   "source": []
  }
 ],
 "metadata": {
  "kernelspec": {
   "display_name": "Python 3",
   "language": "python",
   "name": "python3"
  },
  "language_info": {
   "codemirror_mode": {
    "name": "ipython",
    "version": 3
   },
   "file_extension": ".py",
   "mimetype": "text/x-python",
   "name": "python",
   "nbconvert_exporter": "python",
   "pygments_lexer": "ipython3",
   "version": "3.7.4"
  }
 },
 "nbformat": 4,
 "nbformat_minor": 4
}
